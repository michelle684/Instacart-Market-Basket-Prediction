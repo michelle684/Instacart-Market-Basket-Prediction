{
 "cells": [
  {
   "cell_type": "code",
   "execution_count": 1,
   "metadata": {
    "collapsed": true
   },
   "outputs": [],
   "source": [
    "from __future__ import print_function"
   ]
  },
  {
   "cell_type": "code",
   "execution_count": 80,
   "metadata": {
    "collapsed": true
   },
   "outputs": [],
   "source": [
    "import os.path\n",
    "import pandas as pd\n",
    "import numpy as np\n",
    "from sklearn import metrics\n",
    "import scipy.stats as stats\n",
    "from sklearn.decomposition import PCA\n",
    "from sklearn.preprocessing import LabelEncoder, PolynomialFeatures, StandardScaler\n",
    "from sklearn.linear_model import Lasso, Ridge, LinearRegression, LogisticRegression, ElasticNet\n",
    "from sklearn.model_selection import cross_val_score, train_test_split\n",
    "\n",
    "%matplotlib inline\n",
    "import seaborn as sns\n",
    "import matplotlib.pyplot as plt"
   ]
  },
  {
   "cell_type": "code",
   "execution_count": 3,
   "metadata": {},
   "outputs": [],
   "source": [
    "# Reading the files and storing them into pandas dataframe\n",
    "aisles = pd.read_csv(\"aisles.csv\")\n",
    "departments = pd.read_csv(\"departments.csv\")\n",
    "order_products_prior = pd.read_csv(\"order_products__prior.csv\")\n",
    "order_products_train = pd.read_csv(\"order_products__train.csv\")\n",
    "orders = pd.read_csv(\"orders.csv\")\n",
    "products = pd.read_csv(\"products.csv\")"
   ]
  },
  {
   "cell_type": "code",
   "execution_count": 4,
   "metadata": {},
   "outputs": [
    {
     "name": "stdout",
     "output_type": "stream",
     "text": [
      "Size of orders: (90563, 7)\n",
      "Size of order_products_prior: (32434489, 4)\n",
      "Size of order_products_train: (1384617, 4)\n"
     ]
    }
   ],
   "source": [
    "# Taking a look at the data... \n",
    "print(\"Size of orders:\", orders.shape)\n",
    "print(\"Size of order_products_prior:\", order_products_prior.shape)\n",
    "print(\"Size of order_products_train:\", order_products_train.shape)"
   ]
  },
  {
   "cell_type": "code",
   "execution_count": 5,
   "metadata": {},
   "outputs": [
    {
     "name": "stdout",
     "output_type": "stream",
     "text": [
      "   order_id  user_id eval_set  order_number  order_dow  order_hour_of_day  \\\n",
      "0   2539329        1    prior             1          2                  8   \n",
      "1   2398795        1    prior             2          3                  7   \n",
      "2    473747        1    prior             3          3                 12   \n",
      "3   2254736        1    prior             4          4                  7   \n",
      "4    431534        1    prior             5          4                 15   \n",
      "\n",
      "   days_since_prior_order  \n",
      "0                     NaN  \n",
      "1                    15.0  \n",
      "2                    21.0  \n",
      "3                    29.0  \n",
      "4                    28.0  \n",
      "         order_id  product_id  add_to_cart_order  reordered\n",
      "1384612   3421063       14233                  3          1\n",
      "1384613   3421063       35548                  4          1\n",
      "1384614   3421070       35951                  1          1\n",
      "1384615   3421070       16953                  2          1\n",
      "1384616   3421070        4724                  3          1\n"
     ]
    }
   ],
   "source": [
    "print(orders.head())\n",
    "print(order_products_train.tail())"
   ]
  },
  {
   "cell_type": "code",
   "execution_count": 6,
   "metadata": {},
   "outputs": [
    {
     "data": {
      "text/plain": [
       "aisle_id     int64\n",
       "aisle       object\n",
       "dtype: object"
      ]
     },
     "execution_count": 6,
     "metadata": {},
     "output_type": "execute_result"
    }
   ],
   "source": [
    "# Checking what data types are in each df\n",
    "aisles.dtypes"
   ]
  },
  {
   "cell_type": "code",
   "execution_count": 7,
   "metadata": {},
   "outputs": [
    {
     "data": {
      "text/plain": [
       "department_id     int64\n",
       "department       object\n",
       "dtype: object"
      ]
     },
     "execution_count": 7,
     "metadata": {},
     "output_type": "execute_result"
    }
   ],
   "source": [
    "departments.dtypes"
   ]
  },
  {
   "cell_type": "code",
   "execution_count": 8,
   "metadata": {},
   "outputs": [
    {
     "data": {
      "text/plain": [
       "order_id             int64\n",
       "product_id           int64\n",
       "add_to_cart_order    int64\n",
       "reordered            int64\n",
       "dtype: object"
      ]
     },
     "execution_count": 8,
     "metadata": {},
     "output_type": "execute_result"
    }
   ],
   "source": [
    "order_products_prior.dtypes"
   ]
  },
  {
   "cell_type": "code",
   "execution_count": 9,
   "metadata": {},
   "outputs": [
    {
     "data": {
      "text/plain": [
       "order_id             int64\n",
       "product_id           int64\n",
       "add_to_cart_order    int64\n",
       "reordered            int64\n",
       "dtype: object"
      ]
     },
     "execution_count": 9,
     "metadata": {},
     "output_type": "execute_result"
    }
   ],
   "source": [
    "order_products_train.dtypes"
   ]
  },
  {
   "cell_type": "code",
   "execution_count": 10,
   "metadata": {},
   "outputs": [
    {
     "data": {
      "text/plain": [
       "order_id                    int64\n",
       "user_id                     int64\n",
       "eval_set                   object\n",
       "order_number                int64\n",
       "order_dow                   int64\n",
       "order_hour_of_day           int64\n",
       "days_since_prior_order    float64\n",
       "dtype: object"
      ]
     },
     "execution_count": 10,
     "metadata": {},
     "output_type": "execute_result"
    }
   ],
   "source": [
    "orders.dtypes"
   ]
  },
  {
   "cell_type": "code",
   "execution_count": 11,
   "metadata": {},
   "outputs": [
    {
     "data": {
      "text/plain": [
       "product_id        int64\n",
       "product_name     object\n",
       "aisle_id          int64\n",
       "department_id     int64\n",
       "dtype: object"
      ]
     },
     "execution_count": 11,
     "metadata": {},
     "output_type": "execute_result"
    }
   ],
   "source": [
    "products.dtypes"
   ]
  },
  {
   "cell_type": "code",
   "execution_count": 12,
   "metadata": {},
   "outputs": [
    {
     "name": "stdout",
     "output_type": "stream",
     "text": [
      "# Unique: order_id                  90563\n",
      "user_id                    5484\n",
      "eval_set                      3\n",
      "order_number                100\n",
      "order_dow                     7\n",
      "order_hour_of_day            24\n",
      "days_since_prior_order       31\n",
      "dtype: int64\n"
     ]
    }
   ],
   "source": [
    "# ~200,000 users making ~3.4M orders from Instacart\n",
    "print(\"# Unique:\", orders.nunique())"
   ]
  },
  {
   "cell_type": "code",
   "execution_count": 13,
   "metadata": {},
   "outputs": [
    {
     "name": "stdout",
     "output_type": "stream",
     "text": [
      "# Unique: order_id             3214874\n",
      "product_id             49677\n",
      "add_to_cart_order        145\n",
      "reordered                  2\n",
      "dtype: int64\n"
     ]
    }
   ],
   "source": [
    "print(\"# Unique:\", order_products_prior.nunique())"
   ]
  },
  {
   "cell_type": "code",
   "execution_count": 14,
   "metadata": {},
   "outputs": [
    {
     "name": "stdout",
     "output_type": "stream",
     "text": [
      "# Unique: order_id             131209\n",
      "product_id            39123\n",
      "add_to_cart_order        80\n",
      "reordered                 2\n",
      "dtype: int64\n"
     ]
    }
   ],
   "source": [
    "print(\"# Unique:\", order_products_train.nunique())"
   ]
  },
  {
   "cell_type": "code",
   "execution_count": 15,
   "metadata": {},
   "outputs": [
    {
     "name": "stdout",
     "output_type": "stream",
     "text": [
      "['prior' 'train' 'test']\n"
     ]
    }
   ],
   "source": [
    "''' \n",
    "There are three categories in the \"orders\" df to distinguish where data is separated into \"order_products_prior\" and \n",
    "\"order_products_train\"\n",
    "'''\n",
    "print(orders.eval_set.unique())"
   ]
  },
  {
   "cell_type": "code",
   "execution_count": 16,
   "metadata": {},
   "outputs": [
    {
     "data": {
      "text/plain": [
       "prior    85079\n",
       "train     3490\n",
       "test      1994\n",
       "Name: eval_set, dtype: int64"
      ]
     },
     "execution_count": 16,
     "metadata": {},
     "output_type": "execute_result"
    }
   ],
   "source": [
    "# Sanity check of the counts\n",
    "orders.eval_set.value_counts()"
   ]
  },
  {
   "cell_type": "code",
   "execution_count": 17,
   "metadata": {},
   "outputs": [
    {
     "name": "stdout",
     "output_type": "stream",
     "text": [
      "    order_id  user_id eval_set  order_number  order_dow  order_hour_of_day  \\\n",
      "83   1224907       10    prior             1          2                 14   \n",
      "84     68288       10    prior             2          5                 15   \n",
      "85   2115522       10    prior             3          3                 19   \n",
      "86     83395       10    prior             4          3                 15   \n",
      "87   1353310       10    prior             5          5                 20   \n",
      "88   1822501       10    train             6          0                 19   \n",
      "\n",
      "    days_since_prior_order  \n",
      "83                     NaN  \n",
      "84                    30.0  \n",
      "85                    12.0  \n",
      "86                    14.0  \n",
      "87                    23.0  \n",
      "88                    30.0  \n"
     ]
    }
   ],
   "source": [
    "# Let's take a look at a customer by applying a mask\n",
    "customermask = orders.user_id == 10\n",
    "customerorders = orders[customermask]\n",
    "print(customerorders)"
   ]
  },
  {
   "cell_type": "code",
   "execution_count": 18,
   "metadata": {},
   "outputs": [
    {
     "name": "stdout",
     "output_type": "stream",
     "text": [
      "          order_id  product_id  add_to_cart_order  reordered\n",
      "20057732   2115522       47380                  1          1\n",
      "20057733   2115522        5769                  2          0\n",
      "20057734   2115522       13629                  3          0\n",
      "20057735   2115522       40706                  4          0\n",
      "20057736   2115522       45007                  5          0\n",
      "20057737   2115522       44359                  6          0\n",
      "20057738   2115522       17794                  7          0\n",
      "20057739   2115522       19678                  8          0\n",
      "20057740   2115522        5450                  9          0\n",
      "20057741   2115522       26940                 10          0\n",
      "20057742   2115522       48775                 11          0\n",
      "20057743   2115522       21174                 12          0\n",
      "20057744   2115522       18656                 13          0\n",
      "20057745   2115522       30305                 14          0\n",
      "20057746   2115522       37687                 15          0\n",
      "20057747   2115522       43352                 16          0\n",
      "20057748   2115522       26209                 17          0\n",
      "20057749   2115522       47626                 18          0\n",
      "20057750   2115522       16797                 19          1\n",
      "20057751   2115522        4920                 20          0\n",
      "20057752   2115522       39877                 21          0\n",
      "20057753   2115522       47788                 22          0\n",
      "20057754   2115522       34126                 23          0\n",
      "20057755   2115522       28842                 24          0\n",
      "20057756   2115522       21833                 25          0\n",
      "20057757   2115522       42342                 26          0\n",
      "20057758   2115522       28928                 27          0\n",
      "20057759   2115522       28535                 28          1\n",
      "20057760   2115522       30489                 29          1\n",
      "20057761   2115522       11068                 30          0\n",
      "20057762   2115522       47526                 31          1\n",
      "20057763   2115522       42736                 32          0\n",
      "20057764   2115522       13083                 33          0\n",
      "        order_id  product_id  add_to_cart_order  reordered\n",
      "740338   1822501       29650                  1          0\n",
      "740339   1822501       48720                  2          0\n",
      "740340   1822501       24654                  3          0\n",
      "740341   1822501       10177                  4          0\n"
     ]
    }
   ],
   "source": [
    "'''\n",
    "Let's take a look at a specific customer and the order_id(s) in order_products_prior by applying a mask. \n",
    "It looks like the first order by the customer will have \"days_since_prior_order\"=NaN and the last line will be either \"train\" or \"test\"\n",
    "'''\n",
    "orderIDmask = order_products_prior.order_id == 2115522\n",
    "specificOrder = order_products_prior[orderIDmask]\n",
    "print(specificOrder)\n",
    "\n",
    "orderIDmasktrain = order_products_train.order_id == 1822501\n",
    "specificOrdertrain = order_products_train[orderIDmasktrain]\n",
    "print(specificOrdertrain)"
   ]
  },
  {
   "cell_type": "code",
   "execution_count": 19,
   "metadata": {},
   "outputs": [],
   "source": [
    "# Combining Prior and Train df\n",
    "productPriorTrain = pd.concat((order_products_prior, order_products_train), axis = 0)"
   ]
  },
  {
   "cell_type": "code",
   "execution_count": 20,
   "metadata": {
    "collapsed": true
   },
   "outputs": [],
   "source": [
    "# Merging with orders df\n",
    "ordersAll = pd.merge(orders, productPriorTrain, how='inner', on=\"order_id\")"
   ]
  },
  {
   "cell_type": "code",
   "execution_count": 21,
   "metadata": {},
   "outputs": [
    {
     "data": {
      "text/plain": [
       "(884069, 10)"
      ]
     },
     "execution_count": 21,
     "metadata": {},
     "output_type": "execute_result"
    }
   ],
   "source": [
    "ordersAll.shape"
   ]
  },
  {
   "cell_type": "code",
   "execution_count": 22,
   "metadata": {},
   "outputs": [
    {
     "name": "stdout",
     "output_type": "stream",
     "text": [
      "Empty DataFrame\n",
      "Columns: [order_id, user_id, eval_set, order_number, order_dow, order_hour_of_day, days_since_prior_order, product_id, add_to_cart_order, reordered]\n",
      "Index: []\n"
     ]
    }
   ],
   "source": [
    "# What are the features I can work with in the test eval_set\n",
    "testmask = ordersAll.order_id ==414\n",
    "ordersProdtest = ordersAll[testmask]\n",
    "print(ordersProdtest)"
   ]
  },
  {
   "cell_type": "code",
   "execution_count": 23,
   "metadata": {},
   "outputs": [
    {
     "data": {
      "text/html": [
       "<div>\n",
       "<style>\n",
       "    .dataframe thead tr:only-child th {\n",
       "        text-align: right;\n",
       "    }\n",
       "\n",
       "    .dataframe thead th {\n",
       "        text-align: left;\n",
       "    }\n",
       "\n",
       "    .dataframe tbody tr th {\n",
       "        vertical-align: top;\n",
       "    }\n",
       "</style>\n",
       "<table border=\"1\" class=\"dataframe\">\n",
       "  <thead>\n",
       "    <tr style=\"text-align: right;\">\n",
       "      <th></th>\n",
       "      <th>order_id</th>\n",
       "      <th>user_id</th>\n",
       "      <th>eval_set</th>\n",
       "      <th>order_number</th>\n",
       "      <th>order_dow</th>\n",
       "      <th>order_hour_of_day</th>\n",
       "      <th>days_since_prior_order</th>\n",
       "      <th>product_id</th>\n",
       "      <th>add_to_cart_order</th>\n",
       "      <th>reordered</th>\n",
       "    </tr>\n",
       "  </thead>\n",
       "  <tbody>\n",
       "    <tr>\n",
       "      <th>0</th>\n",
       "      <td>2539329</td>\n",
       "      <td>1</td>\n",
       "      <td>prior</td>\n",
       "      <td>1</td>\n",
       "      <td>2</td>\n",
       "      <td>8</td>\n",
       "      <td>NaN</td>\n",
       "      <td>196</td>\n",
       "      <td>1</td>\n",
       "      <td>0</td>\n",
       "    </tr>\n",
       "    <tr>\n",
       "      <th>1</th>\n",
       "      <td>2539329</td>\n",
       "      <td>1</td>\n",
       "      <td>prior</td>\n",
       "      <td>1</td>\n",
       "      <td>2</td>\n",
       "      <td>8</td>\n",
       "      <td>NaN</td>\n",
       "      <td>14084</td>\n",
       "      <td>2</td>\n",
       "      <td>0</td>\n",
       "    </tr>\n",
       "    <tr>\n",
       "      <th>2</th>\n",
       "      <td>2539329</td>\n",
       "      <td>1</td>\n",
       "      <td>prior</td>\n",
       "      <td>1</td>\n",
       "      <td>2</td>\n",
       "      <td>8</td>\n",
       "      <td>NaN</td>\n",
       "      <td>12427</td>\n",
       "      <td>3</td>\n",
       "      <td>0</td>\n",
       "    </tr>\n",
       "    <tr>\n",
       "      <th>3</th>\n",
       "      <td>2539329</td>\n",
       "      <td>1</td>\n",
       "      <td>prior</td>\n",
       "      <td>1</td>\n",
       "      <td>2</td>\n",
       "      <td>8</td>\n",
       "      <td>NaN</td>\n",
       "      <td>26088</td>\n",
       "      <td>4</td>\n",
       "      <td>0</td>\n",
       "    </tr>\n",
       "    <tr>\n",
       "      <th>4</th>\n",
       "      <td>2539329</td>\n",
       "      <td>1</td>\n",
       "      <td>prior</td>\n",
       "      <td>1</td>\n",
       "      <td>2</td>\n",
       "      <td>8</td>\n",
       "      <td>NaN</td>\n",
       "      <td>26405</td>\n",
       "      <td>5</td>\n",
       "      <td>0</td>\n",
       "    </tr>\n",
       "  </tbody>\n",
       "</table>\n",
       "</div>"
      ],
      "text/plain": [
       "   order_id  user_id eval_set  order_number  order_dow  order_hour_of_day  \\\n",
       "0   2539329        1    prior             1          2                  8   \n",
       "1   2539329        1    prior             1          2                  8   \n",
       "2   2539329        1    prior             1          2                  8   \n",
       "3   2539329        1    prior             1          2                  8   \n",
       "4   2539329        1    prior             1          2                  8   \n",
       "\n",
       "   days_since_prior_order  product_id  add_to_cart_order  reordered  \n",
       "0                     NaN         196                  1          0  \n",
       "1                     NaN       14084                  2          0  \n",
       "2                     NaN       12427                  3          0  \n",
       "3                     NaN       26088                  4          0  \n",
       "4                     NaN       26405                  5          0  "
      ]
     },
     "execution_count": 23,
     "metadata": {},
     "output_type": "execute_result"
    }
   ],
   "source": [
    "ordersAll.head()"
   ]
  },
  {
   "cell_type": "code",
   "execution_count": 24,
   "metadata": {},
   "outputs": [],
   "source": [
    "# Let's take a look to see which department gets the most reordered, merge on product_id\n",
    "ordersAllProduct = pd.merge(ordersAll, products, on=\"product_id\")"
   ]
  },
  {
   "cell_type": "code",
   "execution_count": 25,
   "metadata": {},
   "outputs": [
    {
     "data": {
      "text/plain": [
       "(884069, 13)"
      ]
     },
     "execution_count": 25,
     "metadata": {},
     "output_type": "execute_result"
    }
   ],
   "source": [
    "ordersAllProduct.shape"
   ]
  },
  {
   "cell_type": "code",
   "execution_count": 26,
   "metadata": {
    "collapsed": true
   },
   "outputs": [],
   "source": [
    "ordersAllDept = pd.merge(ordersAllProduct, departments, on=\"department_id\")"
   ]
  },
  {
   "cell_type": "code",
   "execution_count": 27,
   "metadata": {},
   "outputs": [
    {
     "data": {
      "text/html": [
       "<div>\n",
       "<style>\n",
       "    .dataframe thead tr:only-child th {\n",
       "        text-align: right;\n",
       "    }\n",
       "\n",
       "    .dataframe thead th {\n",
       "        text-align: left;\n",
       "    }\n",
       "\n",
       "    .dataframe tbody tr th {\n",
       "        vertical-align: top;\n",
       "    }\n",
       "</style>\n",
       "<table border=\"1\" class=\"dataframe\">\n",
       "  <thead>\n",
       "    <tr style=\"text-align: right;\">\n",
       "      <th></th>\n",
       "      <th>order_id</th>\n",
       "      <th>user_id</th>\n",
       "      <th>eval_set</th>\n",
       "      <th>order_number</th>\n",
       "      <th>order_dow</th>\n",
       "      <th>order_hour_of_day</th>\n",
       "      <th>days_since_prior_order</th>\n",
       "      <th>product_id</th>\n",
       "      <th>add_to_cart_order</th>\n",
       "      <th>reordered</th>\n",
       "      <th>product_name</th>\n",
       "      <th>aisle_id</th>\n",
       "      <th>department_id</th>\n",
       "      <th>department</th>\n",
       "    </tr>\n",
       "  </thead>\n",
       "  <tbody>\n",
       "    <tr>\n",
       "      <th>0</th>\n",
       "      <td>2539329</td>\n",
       "      <td>1</td>\n",
       "      <td>prior</td>\n",
       "      <td>1</td>\n",
       "      <td>2</td>\n",
       "      <td>8</td>\n",
       "      <td>NaN</td>\n",
       "      <td>196</td>\n",
       "      <td>1</td>\n",
       "      <td>0</td>\n",
       "      <td>Soda</td>\n",
       "      <td>77</td>\n",
       "      <td>7</td>\n",
       "      <td>beverages</td>\n",
       "    </tr>\n",
       "    <tr>\n",
       "      <th>1</th>\n",
       "      <td>2398795</td>\n",
       "      <td>1</td>\n",
       "      <td>prior</td>\n",
       "      <td>2</td>\n",
       "      <td>3</td>\n",
       "      <td>7</td>\n",
       "      <td>15.0</td>\n",
       "      <td>196</td>\n",
       "      <td>1</td>\n",
       "      <td>1</td>\n",
       "      <td>Soda</td>\n",
       "      <td>77</td>\n",
       "      <td>7</td>\n",
       "      <td>beverages</td>\n",
       "    </tr>\n",
       "    <tr>\n",
       "      <th>2</th>\n",
       "      <td>473747</td>\n",
       "      <td>1</td>\n",
       "      <td>prior</td>\n",
       "      <td>3</td>\n",
       "      <td>3</td>\n",
       "      <td>12</td>\n",
       "      <td>21.0</td>\n",
       "      <td>196</td>\n",
       "      <td>1</td>\n",
       "      <td>1</td>\n",
       "      <td>Soda</td>\n",
       "      <td>77</td>\n",
       "      <td>7</td>\n",
       "      <td>beverages</td>\n",
       "    </tr>\n",
       "    <tr>\n",
       "      <th>3</th>\n",
       "      <td>2254736</td>\n",
       "      <td>1</td>\n",
       "      <td>prior</td>\n",
       "      <td>4</td>\n",
       "      <td>4</td>\n",
       "      <td>7</td>\n",
       "      <td>29.0</td>\n",
       "      <td>196</td>\n",
       "      <td>1</td>\n",
       "      <td>1</td>\n",
       "      <td>Soda</td>\n",
       "      <td>77</td>\n",
       "      <td>7</td>\n",
       "      <td>beverages</td>\n",
       "    </tr>\n",
       "    <tr>\n",
       "      <th>4</th>\n",
       "      <td>431534</td>\n",
       "      <td>1</td>\n",
       "      <td>prior</td>\n",
       "      <td>5</td>\n",
       "      <td>4</td>\n",
       "      <td>15</td>\n",
       "      <td>28.0</td>\n",
       "      <td>196</td>\n",
       "      <td>1</td>\n",
       "      <td>1</td>\n",
       "      <td>Soda</td>\n",
       "      <td>77</td>\n",
       "      <td>7</td>\n",
       "      <td>beverages</td>\n",
       "    </tr>\n",
       "  </tbody>\n",
       "</table>\n",
       "</div>"
      ],
      "text/plain": [
       "   order_id  user_id eval_set  order_number  order_dow  order_hour_of_day  \\\n",
       "0   2539329        1    prior             1          2                  8   \n",
       "1   2398795        1    prior             2          3                  7   \n",
       "2    473747        1    prior             3          3                 12   \n",
       "3   2254736        1    prior             4          4                  7   \n",
       "4    431534        1    prior             5          4                 15   \n",
       "\n",
       "   days_since_prior_order  product_id  add_to_cart_order  reordered  \\\n",
       "0                     NaN         196                  1          0   \n",
       "1                    15.0         196                  1          1   \n",
       "2                    21.0         196                  1          1   \n",
       "3                    29.0         196                  1          1   \n",
       "4                    28.0         196                  1          1   \n",
       "\n",
       "  product_name  aisle_id  department_id department  \n",
       "0         Soda        77              7  beverages  \n",
       "1         Soda        77              7  beverages  \n",
       "2         Soda        77              7  beverages  \n",
       "3         Soda        77              7  beverages  \n",
       "4         Soda        77              7  beverages  "
      ]
     },
     "execution_count": 27,
     "metadata": {},
     "output_type": "execute_result"
    }
   ],
   "source": [
    "# Looks good so far...\n",
    "ordersAllDept.head()"
   ]
  },
  {
   "cell_type": "code",
   "execution_count": 28,
   "metadata": {},
   "outputs": [],
   "source": [
    "ordersAllDA = pd.merge(ordersAllDept, aisles, on=\"aisle_id\")"
   ]
  },
  {
   "cell_type": "code",
   "execution_count": 29,
   "metadata": {},
   "outputs": [
    {
     "data": {
      "text/html": [
       "<div>\n",
       "<style>\n",
       "    .dataframe thead tr:only-child th {\n",
       "        text-align: right;\n",
       "    }\n",
       "\n",
       "    .dataframe thead th {\n",
       "        text-align: left;\n",
       "    }\n",
       "\n",
       "    .dataframe tbody tr th {\n",
       "        vertical-align: top;\n",
       "    }\n",
       "</style>\n",
       "<table border=\"1\" class=\"dataframe\">\n",
       "  <thead>\n",
       "    <tr style=\"text-align: right;\">\n",
       "      <th></th>\n",
       "      <th>order_id</th>\n",
       "      <th>user_id</th>\n",
       "      <th>eval_set</th>\n",
       "      <th>order_number</th>\n",
       "      <th>order_dow</th>\n",
       "      <th>order_hour_of_day</th>\n",
       "      <th>days_since_prior_order</th>\n",
       "      <th>product_id</th>\n",
       "      <th>add_to_cart_order</th>\n",
       "      <th>reordered</th>\n",
       "      <th>product_name</th>\n",
       "      <th>aisle_id</th>\n",
       "      <th>department_id</th>\n",
       "      <th>department</th>\n",
       "      <th>aisle</th>\n",
       "    </tr>\n",
       "  </thead>\n",
       "  <tbody>\n",
       "    <tr>\n",
       "      <th>0</th>\n",
       "      <td>2539329</td>\n",
       "      <td>1</td>\n",
       "      <td>prior</td>\n",
       "      <td>1</td>\n",
       "      <td>2</td>\n",
       "      <td>8</td>\n",
       "      <td>NaN</td>\n",
       "      <td>196</td>\n",
       "      <td>1</td>\n",
       "      <td>0</td>\n",
       "      <td>Soda</td>\n",
       "      <td>77</td>\n",
       "      <td>7</td>\n",
       "      <td>beverages</td>\n",
       "      <td>soft drinks</td>\n",
       "    </tr>\n",
       "    <tr>\n",
       "      <th>1</th>\n",
       "      <td>2398795</td>\n",
       "      <td>1</td>\n",
       "      <td>prior</td>\n",
       "      <td>2</td>\n",
       "      <td>3</td>\n",
       "      <td>7</td>\n",
       "      <td>15.0</td>\n",
       "      <td>196</td>\n",
       "      <td>1</td>\n",
       "      <td>1</td>\n",
       "      <td>Soda</td>\n",
       "      <td>77</td>\n",
       "      <td>7</td>\n",
       "      <td>beverages</td>\n",
       "      <td>soft drinks</td>\n",
       "    </tr>\n",
       "    <tr>\n",
       "      <th>2</th>\n",
       "      <td>473747</td>\n",
       "      <td>1</td>\n",
       "      <td>prior</td>\n",
       "      <td>3</td>\n",
       "      <td>3</td>\n",
       "      <td>12</td>\n",
       "      <td>21.0</td>\n",
       "      <td>196</td>\n",
       "      <td>1</td>\n",
       "      <td>1</td>\n",
       "      <td>Soda</td>\n",
       "      <td>77</td>\n",
       "      <td>7</td>\n",
       "      <td>beverages</td>\n",
       "      <td>soft drinks</td>\n",
       "    </tr>\n",
       "    <tr>\n",
       "      <th>3</th>\n",
       "      <td>2254736</td>\n",
       "      <td>1</td>\n",
       "      <td>prior</td>\n",
       "      <td>4</td>\n",
       "      <td>4</td>\n",
       "      <td>7</td>\n",
       "      <td>29.0</td>\n",
       "      <td>196</td>\n",
       "      <td>1</td>\n",
       "      <td>1</td>\n",
       "      <td>Soda</td>\n",
       "      <td>77</td>\n",
       "      <td>7</td>\n",
       "      <td>beverages</td>\n",
       "      <td>soft drinks</td>\n",
       "    </tr>\n",
       "    <tr>\n",
       "      <th>4</th>\n",
       "      <td>431534</td>\n",
       "      <td>1</td>\n",
       "      <td>prior</td>\n",
       "      <td>5</td>\n",
       "      <td>4</td>\n",
       "      <td>15</td>\n",
       "      <td>28.0</td>\n",
       "      <td>196</td>\n",
       "      <td>1</td>\n",
       "      <td>1</td>\n",
       "      <td>Soda</td>\n",
       "      <td>77</td>\n",
       "      <td>7</td>\n",
       "      <td>beverages</td>\n",
       "      <td>soft drinks</td>\n",
       "    </tr>\n",
       "  </tbody>\n",
       "</table>\n",
       "</div>"
      ],
      "text/plain": [
       "   order_id  user_id eval_set  order_number  order_dow  order_hour_of_day  \\\n",
       "0   2539329        1    prior             1          2                  8   \n",
       "1   2398795        1    prior             2          3                  7   \n",
       "2    473747        1    prior             3          3                 12   \n",
       "3   2254736        1    prior             4          4                  7   \n",
       "4    431534        1    prior             5          4                 15   \n",
       "\n",
       "   days_since_prior_order  product_id  add_to_cart_order  reordered  \\\n",
       "0                     NaN         196                  1          0   \n",
       "1                    15.0         196                  1          1   \n",
       "2                    21.0         196                  1          1   \n",
       "3                    29.0         196                  1          1   \n",
       "4                    28.0         196                  1          1   \n",
       "\n",
       "  product_name  aisle_id  department_id department        aisle  \n",
       "0         Soda        77              7  beverages  soft drinks  \n",
       "1         Soda        77              7  beverages  soft drinks  \n",
       "2         Soda        77              7  beverages  soft drinks  \n",
       "3         Soda        77              7  beverages  soft drinks  \n",
       "4         Soda        77              7  beverages  soft drinks  "
      ]
     },
     "execution_count": 29,
     "metadata": {},
     "output_type": "execute_result"
    }
   ],
   "source": [
    "ordersAllDA.head()"
   ]
  },
  {
   "cell_type": "code",
   "execution_count": 99,
   "metadata": {
    "collapsed": true
   },
   "outputs": [],
   "source": [
    "#Dropping NaN rows\n",
    "ordersAllDA = ordersAllDA.dropna()"
   ]
  },
  {
   "cell_type": "code",
   "execution_count": 102,
   "metadata": {},
   "outputs": [
    {
     "data": {
      "text/html": [
       "<div>\n",
       "<style>\n",
       "    .dataframe thead tr:only-child th {\n",
       "        text-align: right;\n",
       "    }\n",
       "\n",
       "    .dataframe thead th {\n",
       "        text-align: left;\n",
       "    }\n",
       "\n",
       "    .dataframe tbody tr th {\n",
       "        vertical-align: top;\n",
       "    }\n",
       "</style>\n",
       "<table border=\"1\" class=\"dataframe\">\n",
       "  <thead>\n",
       "    <tr style=\"text-align: right;\">\n",
       "      <th></th>\n",
       "      <th>order_id</th>\n",
       "      <th>user_id</th>\n",
       "      <th>order_number</th>\n",
       "      <th>order_dow</th>\n",
       "      <th>order_hour_of_day</th>\n",
       "      <th>days_since_prior_order</th>\n",
       "      <th>product_id</th>\n",
       "      <th>add_to_cart_order</th>\n",
       "      <th>reordered</th>\n",
       "      <th>aisle_id</th>\n",
       "      <th>department_id</th>\n",
       "    </tr>\n",
       "  </thead>\n",
       "  <tbody>\n",
       "    <tr>\n",
       "      <th>order_id</th>\n",
       "      <td>1.000000</td>\n",
       "      <td>0.016972</td>\n",
       "      <td>-0.000999</td>\n",
       "      <td>0.003748</td>\n",
       "      <td>0.001250</td>\n",
       "      <td>-0.000440</td>\n",
       "      <td>0.002411</td>\n",
       "      <td>0.000339</td>\n",
       "      <td>0.000684</td>\n",
       "      <td>0.000152</td>\n",
       "      <td>-0.000568</td>\n",
       "    </tr>\n",
       "    <tr>\n",
       "      <th>user_id</th>\n",
       "      <td>0.016972</td>\n",
       "      <td>1.000000</td>\n",
       "      <td>0.039885</td>\n",
       "      <td>0.011067</td>\n",
       "      <td>-0.013624</td>\n",
       "      <td>-0.026132</td>\n",
       "      <td>-0.001811</td>\n",
       "      <td>0.014629</td>\n",
       "      <td>0.013641</td>\n",
       "      <td>-0.000967</td>\n",
       "      <td>0.010411</td>\n",
       "    </tr>\n",
       "    <tr>\n",
       "      <th>order_number</th>\n",
       "      <td>-0.000999</td>\n",
       "      <td>0.039885</td>\n",
       "      <td>1.000000</td>\n",
       "      <td>0.013441</td>\n",
       "      <td>-0.044319</td>\n",
       "      <td>-0.364697</td>\n",
       "      <td>-0.001184</td>\n",
       "      <td>-0.006852</td>\n",
       "      <td>0.250800</td>\n",
       "      <td>-0.003107</td>\n",
       "      <td>0.006011</td>\n",
       "    </tr>\n",
       "    <tr>\n",
       "      <th>order_dow</th>\n",
       "      <td>0.003748</td>\n",
       "      <td>0.011067</td>\n",
       "      <td>0.013441</td>\n",
       "      <td>1.000000</td>\n",
       "      <td>-0.003809</td>\n",
       "      <td>-0.025162</td>\n",
       "      <td>-0.000489</td>\n",
       "      <td>-0.012001</td>\n",
       "      <td>-0.014874</td>\n",
       "      <td>-0.001989</td>\n",
       "      <td>0.004015</td>\n",
       "    </tr>\n",
       "    <tr>\n",
       "      <th>order_hour_of_day</th>\n",
       "      <td>0.001250</td>\n",
       "      <td>-0.013624</td>\n",
       "      <td>-0.044319</td>\n",
       "      <td>-0.003809</td>\n",
       "      <td>1.000000</td>\n",
       "      <td>0.005890</td>\n",
       "      <td>0.001439</td>\n",
       "      <td>-0.018523</td>\n",
       "      <td>-0.019757</td>\n",
       "      <td>-0.000224</td>\n",
       "      <td>-0.010587</td>\n",
       "    </tr>\n",
       "    <tr>\n",
       "      <th>days_since_prior_order</th>\n",
       "      <td>-0.000440</td>\n",
       "      <td>-0.026132</td>\n",
       "      <td>-0.364697</td>\n",
       "      <td>-0.025162</td>\n",
       "      <td>0.005890</td>\n",
       "      <td>1.000000</td>\n",
       "      <td>-0.001376</td>\n",
       "      <td>0.050977</td>\n",
       "      <td>-0.139167</td>\n",
       "      <td>0.009563</td>\n",
       "      <td>-0.001946</td>\n",
       "    </tr>\n",
       "    <tr>\n",
       "      <th>product_id</th>\n",
       "      <td>0.002411</td>\n",
       "      <td>-0.001811</td>\n",
       "      <td>-0.001184</td>\n",
       "      <td>-0.000489</td>\n",
       "      <td>0.001439</td>\n",
       "      <td>-0.001376</td>\n",
       "      <td>1.000000</td>\n",
       "      <td>0.004017</td>\n",
       "      <td>0.005706</td>\n",
       "      <td>0.002987</td>\n",
       "      <td>-0.028720</td>\n",
       "    </tr>\n",
       "    <tr>\n",
       "      <th>add_to_cart_order</th>\n",
       "      <td>0.000339</td>\n",
       "      <td>0.014629</td>\n",
       "      <td>-0.006852</td>\n",
       "      <td>-0.012001</td>\n",
       "      <td>-0.018523</td>\n",
       "      <td>0.050977</td>\n",
       "      <td>0.004017</td>\n",
       "      <td>1.000000</td>\n",
       "      <td>-0.138744</td>\n",
       "      <td>0.010800</td>\n",
       "      <td>0.034709</td>\n",
       "    </tr>\n",
       "    <tr>\n",
       "      <th>reordered</th>\n",
       "      <td>0.000684</td>\n",
       "      <td>0.013641</td>\n",
       "      <td>0.250800</td>\n",
       "      <td>-0.014874</td>\n",
       "      <td>-0.019757</td>\n",
       "      <td>-0.139167</td>\n",
       "      <td>0.005706</td>\n",
       "      <td>-0.138744</td>\n",
       "      <td>1.000000</td>\n",
       "      <td>0.001125</td>\n",
       "      <td>-0.040043</td>\n",
       "    </tr>\n",
       "    <tr>\n",
       "      <th>aisle_id</th>\n",
       "      <td>0.000152</td>\n",
       "      <td>-0.000967</td>\n",
       "      <td>-0.003107</td>\n",
       "      <td>-0.001989</td>\n",
       "      <td>-0.000224</td>\n",
       "      <td>0.009563</td>\n",
       "      <td>0.002987</td>\n",
       "      <td>0.010800</td>\n",
       "      <td>0.001125</td>\n",
       "      <td>1.000000</td>\n",
       "      <td>0.053704</td>\n",
       "    </tr>\n",
       "    <tr>\n",
       "      <th>department_id</th>\n",
       "      <td>-0.000568</td>\n",
       "      <td>0.010411</td>\n",
       "      <td>0.006011</td>\n",
       "      <td>0.004015</td>\n",
       "      <td>-0.010587</td>\n",
       "      <td>-0.001946</td>\n",
       "      <td>-0.028720</td>\n",
       "      <td>0.034709</td>\n",
       "      <td>-0.040043</td>\n",
       "      <td>0.053704</td>\n",
       "      <td>1.000000</td>\n",
       "    </tr>\n",
       "  </tbody>\n",
       "</table>\n",
       "</div>"
      ],
      "text/plain": [
       "                        order_id   user_id  order_number  order_dow  \\\n",
       "order_id                1.000000  0.016972     -0.000999   0.003748   \n",
       "user_id                 0.016972  1.000000      0.039885   0.011067   \n",
       "order_number           -0.000999  0.039885      1.000000   0.013441   \n",
       "order_dow               0.003748  0.011067      0.013441   1.000000   \n",
       "order_hour_of_day       0.001250 -0.013624     -0.044319  -0.003809   \n",
       "days_since_prior_order -0.000440 -0.026132     -0.364697  -0.025162   \n",
       "product_id              0.002411 -0.001811     -0.001184  -0.000489   \n",
       "add_to_cart_order       0.000339  0.014629     -0.006852  -0.012001   \n",
       "reordered               0.000684  0.013641      0.250800  -0.014874   \n",
       "aisle_id                0.000152 -0.000967     -0.003107  -0.001989   \n",
       "department_id          -0.000568  0.010411      0.006011   0.004015   \n",
       "\n",
       "                        order_hour_of_day  days_since_prior_order  product_id  \\\n",
       "order_id                         0.001250               -0.000440    0.002411   \n",
       "user_id                         -0.013624               -0.026132   -0.001811   \n",
       "order_number                    -0.044319               -0.364697   -0.001184   \n",
       "order_dow                       -0.003809               -0.025162   -0.000489   \n",
       "order_hour_of_day                1.000000                0.005890    0.001439   \n",
       "days_since_prior_order           0.005890                1.000000   -0.001376   \n",
       "product_id                       0.001439               -0.001376    1.000000   \n",
       "add_to_cart_order               -0.018523                0.050977    0.004017   \n",
       "reordered                       -0.019757               -0.139167    0.005706   \n",
       "aisle_id                        -0.000224                0.009563    0.002987   \n",
       "department_id                   -0.010587               -0.001946   -0.028720   \n",
       "\n",
       "                        add_to_cart_order  reordered  aisle_id  department_id  \n",
       "order_id                         0.000339   0.000684  0.000152      -0.000568  \n",
       "user_id                          0.014629   0.013641 -0.000967       0.010411  \n",
       "order_number                    -0.006852   0.250800 -0.003107       0.006011  \n",
       "order_dow                       -0.012001  -0.014874 -0.001989       0.004015  \n",
       "order_hour_of_day               -0.018523  -0.019757 -0.000224      -0.010587  \n",
       "days_since_prior_order           0.050977  -0.139167  0.009563      -0.001946  \n",
       "product_id                       0.004017   0.005706  0.002987      -0.028720  \n",
       "add_to_cart_order                1.000000  -0.138744  0.010800       0.034709  \n",
       "reordered                       -0.138744   1.000000  0.001125      -0.040043  \n",
       "aisle_id                         0.010800   0.001125  1.000000       0.053704  \n",
       "department_id                    0.034709  -0.040043  0.053704       1.000000  "
      ]
     },
     "execution_count": 102,
     "metadata": {},
     "output_type": "execute_result"
    }
   ],
   "source": [
    "# not having great correlation with anything specific\n",
    "ordersAllDA.corr()"
   ]
  },
  {
   "cell_type": "code",
   "execution_count": 103,
   "metadata": {},
   "outputs": [
    {
     "data": {
      "text/plain": [
       "<matplotlib.axes._subplots.AxesSubplot at 0x10eba2940>"
      ]
     },
     "execution_count": 103,
     "metadata": {},
     "output_type": "execute_result"
    },
    {
     "data": {
      "image/png": "[encoded data removed]",
      "text/plain": [
       "<matplotlib.figure.Figure at 0x10eba2dd8>"
      ]
     },
     "metadata": {},
     "output_type": "display_data"
    }
   ],
   "source": [
    "# Plot graph of which department gets most reordered\n",
    "reorderMask = ordersAllDA.reordered == 1\n",
    "reorderProducts = ordersAllDA[reorderMask]\n",
    "sns.distplot(reorderProducts[\"department_id\"])\n",
    "# Looks like Department 4 is the most reordered department. Department 4 is produce. "
   ]
  },
  {
   "cell_type": "code",
   "execution_count": 108,
   "metadata": {},
   "outputs": [],
   "source": [
    "#Getting the features and target\n",
    "feature_col = [\"user_id\", \"order_dow\", \"order_hour_of_day\", \"days_since_prior_order\", \"product_id\", \"department_id\",\"aisle_id\"]\n",
    "orders_features = ordersAllDA[feature_col]\n",
    "orders_target = ordersAllDA[\"reordered\"]"
   ]
  },
  {
   "cell_type": "code",
   "execution_count": 113,
   "metadata": {},
   "outputs": [
    {
     "name": "stdout",
     "output_type": "stream",
     "text": [
      "20-fold mean RMSE:  0.479517052044\n"
     ]
    }
   ],
   "source": [
    "# linear regression using 20-fold cross validation \n",
    "X = StandardScaler().fit_transform(orders_features)\n",
    "y = ordersAllDA[\"reordered\"]\n",
    "\n",
    "lr = LinearRegression()\n",
    "mean_squared_errors = np.abs(cross_val_score(lr, X, y, cv=20, scoring='neg_mean_squared_error'))\n",
    "root_mean_squared_errors = list(map(np.sqrt, mean_squared_errors))\n",
    "print(\"20-fold mean RMSE: \", np.mean(root_mean_squared_errors))"
   ]
  },
  {
   "cell_type": "code",
   "execution_count": 114,
   "metadata": {},
   "outputs": [
    {
     "name": "stdout",
     "output_type": "stream",
     "text": [
      "20-fold mean RMSE:  0.620819524183\n"
     ]
    }
   ],
   "source": [
    "# logistic regression using 20-fold cross validation \n",
    "X = StandardScaler().fit_transform(orders_features)\n",
    "y = ordersAllDA[\"reordered\"]\n",
    "\n",
    "logr = LogisticRegression()\n",
    "mean_squared_errors = np.abs(cross_val_score(logr, X, y, cv=20, scoring='neg_mean_squared_error'))\n",
    "root_mean_squared_errors = list(map(np.sqrt, mean_squared_errors))\n",
    "print(\"20-fold mean RMSE: \", np.mean(root_mean_squared_errors))"
   ]
  },
  {
   "cell_type": "code",
   "execution_count": 116,
   "metadata": {},
   "outputs": [
    {
     "data": {
      "text/html": [
       "<div>\n",
       "<style>\n",
       "    .dataframe thead tr:only-child th {\n",
       "        text-align: right;\n",
       "    }\n",
       "\n",
       "    .dataframe thead th {\n",
       "        text-align: left;\n",
       "    }\n",
       "\n",
       "    .dataframe tbody tr th {\n",
       "        vertical-align: top;\n",
       "    }\n",
       "</style>\n",
       "<table border=\"1\" class=\"dataframe\">\n",
       "  <thead>\n",
       "    <tr style=\"text-align: right;\">\n",
       "      <th></th>\n",
       "      <th>features</th>\n",
       "      <th>betas</th>\n",
       "    </tr>\n",
       "  </thead>\n",
       "  <tbody>\n",
       "    <tr>\n",
       "      <th>3</th>\n",
       "      <td>days_since_prior_order</td>\n",
       "      <td>0.067325</td>\n",
       "    </tr>\n",
       "    <tr>\n",
       "      <th>5</th>\n",
       "      <td>department_id</td>\n",
       "      <td>0.019650</td>\n",
       "    </tr>\n",
       "    <tr>\n",
       "      <th>2</th>\n",
       "      <td>order_hour_of_day</td>\n",
       "      <td>0.009324</td>\n",
       "    </tr>\n",
       "    <tr>\n",
       "      <th>1</th>\n",
       "      <td>order_dow</td>\n",
       "      <td>0.008886</td>\n",
       "    </tr>\n",
       "    <tr>\n",
       "      <th>0</th>\n",
       "      <td>user_id</td>\n",
       "      <td>0.005012</td>\n",
       "    </tr>\n",
       "    <tr>\n",
       "      <th>6</th>\n",
       "      <td>aisle_id</td>\n",
       "      <td>0.002221</td>\n",
       "    </tr>\n",
       "    <tr>\n",
       "      <th>4</th>\n",
       "      <td>product_id</td>\n",
       "      <td>0.002111</td>\n",
       "    </tr>\n",
       "  </tbody>\n",
       "</table>\n",
       "</div>"
      ],
      "text/plain": [
       "                 features     betas\n",
       "3  days_since_prior_order  0.067325\n",
       "5           department_id  0.019650\n",
       "2       order_hour_of_day  0.009324\n",
       "1               order_dow  0.008886\n",
       "0                 user_id  0.005012\n",
       "6                aisle_id  0.002221\n",
       "4              product_id  0.002111"
      ]
     },
     "execution_count": 116,
     "metadata": {},
     "output_type": "execute_result"
    }
   ],
   "source": [
    "coeffs = LinearRegression().fit(X,y).coef_\n",
    "coeff_df = pd.DataFrame(list(zip(orders_features,np.abs(coeffs))), columns=[\"features\",\"betas\"])\n",
    "coeff_df.sort_values(\"betas\", ascending=False, inplace=True)\n",
    "coeff_df"
   ]
  },
  {
   "cell_type": "code",
   "execution_count": 117,
   "metadata": {},
   "outputs": [
    {
     "name": "stdout",
     "output_type": "stream",
     "text": [
      "(829983L, 63L)\n"
     ]
    }
   ],
   "source": [
    "pf_3 = PolynomialFeatures(degree=3, interaction_only=True)\n",
    "pf_3_data = pf_3.fit_transform(orders_features)[:, 1:]\n",
    "print(pf_3_data.shape)"
   ]
  },
  {
   "cell_type": "code",
   "execution_count": 119,
   "metadata": {},
   "outputs": [],
   "source": [
    "lr = LinearRegression()\n",
    "absolute_errors = np.abs(cross_val_score(lr, pf_3_data, orders_features, cv=15))"
   ]
  },
  {
   "cell_type": "code",
   "execution_count": 120,
   "metadata": {},
   "outputs": [
    {
     "name": "stdout",
     "output_type": "stream",
     "text": [
      "15-fold mean RMSE for degree-3 case:  1.0\n"
     ]
    }
   ],
   "source": [
    "rmses = list(map(np.sqrt, absolute_errors))\n",
    "print(\"15-fold mean RMSE for degree-3 case: \", np.mean(rmses))"
   ]
  },
  {
   "cell_type": "code",
   "execution_count": 125,
   "metadata": {},
   "outputs": [],
   "source": [
    "# logistic regression with L1 penalty\n",
    "feature = [\"days_since_prior_order\"]\n",
    "X = ordersAllDA[feature]\n",
    "y = ordersAllDA[\"reordered\"]\n",
    "log = LogisticRegression(penalty='l1', solver='liblinear')\n",
    "log.fit(X, y)\n",
    "outcome_predict = log.predict(X) "
   ]
  },
  {
   "cell_type": "code",
   "execution_count": null,
   "metadata": {
    "collapsed": true
   },
   "outputs": [],
   "source": []
  }
 ],
 "metadata": {
  "kernelspec": {
   "display_name": "Python 2",
   "language": "python",
   "name": "python2"
  },
  "language_info": {
   "codemirror_mode": {
    "name": "ipython",
    "version": 2
   },
   "file_extension": ".py",
   "mimetype": "text/x-python",
   "name": "python",
   "nbconvert_exporter": "python",
   "pygments_lexer": "ipython2",
   "version": "2.7.14"
  }
 },
 "nbformat": 4,
 "nbformat_minor": 2
}
